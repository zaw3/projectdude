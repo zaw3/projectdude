{
 "cells": [
  {
   "cell_type": "markdown",
   "id": "pharmaceutical-acrobat",
   "metadata": {},
   "source": [
    "## Introduction\n",
    "\n",
    "I think everyone miss their childwood which is full of joy. In this beginner project, we are going to build a photo cartoonifyer which change photo to cartoons.\n",
    "\n",
    "### What are we going to build?\n",
    "\n",
    "Yes, we are going to build a python application which transform images into its cartoon."
   ]
  },
  {
   "cell_type": "markdown",
   "id": "threatened-station",
   "metadata": {},
   "source": [
    "#### Import the required modules"
   ]
  },
  {
   "cell_type": "code",
   "execution_count": 19,
   "id": "facial-chemical",
   "metadata": {},
   "outputs": [],
   "source": [
    "import cv2          #for image processing\n",
    "import easygui      #to open filebox\n",
    "import numpy as np  #to store image\n",
    "import imageio      #to read image stored at particular path\n",
    "import sys\n",
    "import matplotlib.pyplot as plt\n",
    "import os\n",
    "import tkinter as tk\n",
    "from tkinter import filedialog\n",
    "from tkinter import *\n",
    "from PIL import ImageTk, Image"
   ]
  },
  {
   "cell_type": "markdown",
   "id": "changed-network",
   "metadata": {},
   "source": [
    "### Building a File box to choose a particular file\n",
    "\n",
    "We will build the main window of our application in which buttoms,labels and images will reside."
   ]
  },
  {
   "cell_type": "code",
   "execution_count": 21,
   "id": "atmospheric-delight",
   "metadata": {},
   "outputs": [],
   "source": [
    "top = tk.Tk()\n",
    "top.geometry('400x400')\n",
    "top.title('Cartoonify Your Image !')\n",
    "top.configure(background = 'white')\n",
    "label = label(top,background = '#CDCDCD', font = ('calibri',20,'bold'))"
   ]
  },
  {
   "cell_type": "code",
   "execution_count": null,
   "id": "modern-florist",
   "metadata": {},
   "outputs": [],
   "source": [
    "\"\"\" Fileopenbox opens the box to choose file\n",
    "and help us store file path as string \"\"\"\n",
    "def upload():\n",
    "    ImagePath = easygui.fileopenbox()\n",
    "    cartoonify(ImagePath)\n"
   ]
  },
  {
   "cell_type": "markdown",
   "id": "complex-stroke",
   "metadata": {},
   "source": [
    "The function we just wrote will open the file box in which we can choose our image file to cartoonify."
   ]
  },
  {
   "cell_type": "markdown",
   "id": "olympic-gilbert",
   "metadata": {},
   "source": [
    "### How is an image stored\n",
    "\n",
    "Since our computer knows number, we will convert our image file into numpy array. Also, this help us perform operations according to our need. We resize image after transformation so that they can display all images on the same scale.\n",
    "\n",
    "Then, the Grayscale image is smoothened, and we try to extract the edges in the image. Finally, we form a color image and mask it with edges. This creates a beautiful cartoon image with edges and lightened color of the original image."
   ]
  },
  {
   "cell_type": "code",
   "execution_count": null,
   "id": "dried-election",
   "metadata": {},
   "outputs": [],
   "source": [
    "def cartoonify(ImagePath):\n",
    "    originalimage = cv2.imread(ImagePath) # Reading an image in default mode\n",
    "    originalimage = cv2.cvtColor(originalimage,cv2.COLOR_BGR2RGB) #image is stored in form of numbers\n",
    "    \n",
    "    # confirm that image is chosen\n",
    "    if originalimage is None:\n",
    "        print(\"Can not find any image, Choose appropriate file\")\n",
    "        sys.exit()\n",
    "        \n",
    "    Resized1 = cv2.resize(originalimage,(960,340))\n",
    "    \n",
    "    #convert an image to grayscale\n",
    "    grayScaleImage = cv2.cvtColor(originalimage,cv2.COLOR_BGR2GRAY)\n",
    "    Resized2 = cv2.resize(grayScaleImage,(960,540))\n",
    "    \n",
    "    # apply medium blur to smoothen an image\n",
    "    smoothGrayScale = cv2.mediaBlur(grayScaleImage,5)\n",
    "    Resized3 = cv2.resize(smoothGrayScale,(960,540))\n",
    "    \n",
    "    # retreive the edges for cartoon effect\n",
    "    getEdge = cv2.adaptiveThreshold(smoothGrayScale,255,\n",
    "                                   cv2.ADAPTIVE_THRESH_MEAN_C,\n",
    "                                   cv2.THRESH_BINARY,9,9)\n",
    "    Resized4 = cv2.resize(getEdge,(960,540))\n",
    "    \n",
    "    # apply bilateral filter to remove noise\n",
    "    colorImage = cv2.bilateralFilter(originalimage,9,300,300)\n",
    "    Resized5   = cv2.resize(colorImage,(960,540))\n",
    "    \n",
    "    # masking edge image with our removed noise image\n",
    "    cartoonImage = cv2.bitwise_and(colorImage,colorImage,mask=getEdge)\n",
    "    Resized6     = cv2.resize(cartoonImage,(960,540))\n",
    "    \n",
    "    # ploting the whole transition\n",
    "    images = [Resized1, Resized2, Resized3, Resized4, Resized5, Resized6]\n",
    "    \n",
    "    fig, axes = plt.subplots(3,2, figsize = (8,8),subplot_kw={'xticks':[],'yticks':[]},gridspec_kw = dict(hspace = 0.1,wspae = 0.1))\n",
    "    for i,ax in enumerate(axes,flat):\n",
    "        ax.imshow(images[i],cmap = 'gray')\n",
    "    plt.show()"
   ]
  },
  {
   "cell_type": "markdown",
   "id": "molecular-socket",
   "metadata": {},
   "source": [
    "### Function for saving buttom"
   ]
  },
  {
   "cell_type": "code",
   "execution_count": null,
   "id": "wrong-plant",
   "metadata": {},
   "outputs": [],
   "source": [
    "def save(Resized6, ImagePath):\n",
    "    newName = 'cartoonified_Image'\n",
    "    path1 = os.path.dirname(ImagePath)\n",
    "    extension = os.path.splitext(ImagePath)[1]\n",
    "    path = os.path.join(path1, newName+extension)\n",
    "    cv2.imwrite(path,cv2.cvtColor(Resized6, cv2.COLOR_RGB2BGR))\n",
    "    I = \"Image save by name \" + newName + \" at \" + path\n",
    "    tk.messagebox.showinfo(title = None, message = I)"
   ]
  },
  {
   "cell_type": "markdown",
   "id": "graduate-boston",
   "metadata": {},
   "source": [
    "### Making the Cartoonify buttom in the main window"
   ]
  },
  {
   "cell_type": "code",
   "execution_count": null,
   "id": "bizarre-maine",
   "metadata": {},
   "outputs": [],
   "source": [
    "upload = Buttom(top,text = 'Cartoonify an Image',command = upload, padx = 10, pady= 5)\n",
    "upload.configure(background = '#364156',foreground = 'white',font('calibri',10,'bold'))\n",
    "upload.pack(side=TOP,pady = 50)\n",
    "top.mainloop()"
   ]
  },
  {
   "cell_type": "markdown",
   "id": "eligible-budget",
   "metadata": {},
   "source": [
    "### Summary\n",
    "Now, we can tease our brother and sister by saying you look like cartoon by cartoonify his/her image and show it.\n",
    "\n",
    "We have successfully developed Image Cartoonifier with OpenCV in Python. This is the magic of openCV which let us do miracles."
   ]
  },
  {
   "cell_type": "code",
   "execution_count": null,
   "id": "quality-religious",
   "metadata": {},
   "outputs": [],
   "source": []
  }
 ],
 "metadata": {
  "kernelspec": {
   "display_name": "Python 3",
   "language": "python",
   "name": "python3"
  },
  "language_info": {
   "codemirror_mode": {
    "name": "ipython",
    "version": 3
   },
   "file_extension": ".py",
   "mimetype": "text/x-python",
   "name": "python",
   "nbconvert_exporter": "python",
   "pygments_lexer": "ipython3",
   "version": "3.7.1"
  }
 },
 "nbformat": 4,
 "nbformat_minor": 5
}
