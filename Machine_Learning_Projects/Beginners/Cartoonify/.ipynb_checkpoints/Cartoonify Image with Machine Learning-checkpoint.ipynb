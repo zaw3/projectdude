{
 "cells": [
  {
   "cell_type": "markdown",
   "id": "pharmaceutical-acrobat",
   "metadata": {},
   "source": [
    "## Introduction\n",
    "\n",
    "I think everyone miss their childwood which is full of joy. In this beginner project, we are going to build a photo cartoonifyer which change photo to cartoons."
   ]
  },
  {
   "cell_type": "code",
   "execution_count": null,
   "id": "eligible-flight",
   "metadata": {},
   "outputs": [],
   "source": []
  }
 ],
 "metadata": {
  "kernelspec": {
   "display_name": "Python 3",
   "language": "python",
   "name": "python3"
  },
  "language_info": {
   "codemirror_mode": {
    "name": "ipython",
    "version": 3
   },
   "file_extension": ".py",
   "mimetype": "text/x-python",
   "name": "python",
   "nbconvert_exporter": "python",
   "pygments_lexer": "ipython3",
   "version": "3.7.1"
  }
 },
 "nbformat": 4,
 "nbformat_minor": 5
}
