{
 "cells": [
  {
   "cell_type": "markdown",
   "id": "recovered-george",
   "metadata": {},
   "source": [
    "## Introduction\n",
    "\n",
    "Recently, Bitcoin has been very popular in public as the price go up. It is decentralized network and digital currency that uses a peer-to-peer system to process transactions. In this project, we are going to predict Bitcoin price.\n",
    "\n",
    "We will use Logistic regression model for predicting the Bitcoin price as it is an open-source additive regression model. It also has advanced version of the prophet like NeuralProphet. We will be using the simplified version for predicting the Bitcoin price. The dataset is downloaded from [Yahoo Finance](https://in.finance.yahoo.com)."
   ]
  },
  {
   "cell_type": "markdown",
   "id": "norwegian-newsletter",
   "metadata": {},
   "source": [
    "### Import required libraries"
   ]
  },
  {
   "cell_type": "code",
   "execution_count": 353,
   "id": "technical-extra",
   "metadata": {},
   "outputs": [],
   "source": [
    "import pandas as pd\n",
    "import numpy as np\n",
    "import matplotlib.pyplot as plt\n",
    "from sklearn.model_selection import train_test_split\n",
    "from sklearn.linear_model import LogisticRegression"
   ]
  },
  {
   "cell_type": "code",
   "execution_count": 320,
   "id": "retired-emerald",
   "metadata": {},
   "outputs": [],
   "source": [
    "df = pd.read_csv('BTC-USD.csv')"
   ]
  },
  {
   "cell_type": "code",
   "execution_count": 321,
   "id": "respiratory-vietnam",
   "metadata": {},
   "outputs": [
    {
     "data": {
      "text/html": [
       "<div>\n",
       "<style scoped>\n",
       "    .dataframe tbody tr th:only-of-type {\n",
       "        vertical-align: middle;\n",
       "    }\n",
       "\n",
       "    .dataframe tbody tr th {\n",
       "        vertical-align: top;\n",
       "    }\n",
       "\n",
       "    .dataframe thead th {\n",
       "        text-align: right;\n",
       "    }\n",
       "</style>\n",
       "<table border=\"1\" class=\"dataframe\">\n",
       "  <thead>\n",
       "    <tr style=\"text-align: right;\">\n",
       "      <th></th>\n",
       "      <th>Date</th>\n",
       "      <th>Open</th>\n",
       "      <th>High</th>\n",
       "      <th>Low</th>\n",
       "      <th>Close</th>\n",
       "      <th>Adj Close</th>\n",
       "      <th>Volume</th>\n",
       "    </tr>\n",
       "  </thead>\n",
       "  <tbody>\n",
       "    <tr>\n",
       "      <th>0</th>\n",
       "      <td>2020-02-16</td>\n",
       "      <td>9889.179688</td>\n",
       "      <td>10053.968750</td>\n",
       "      <td>9722.386719</td>\n",
       "      <td>9934.433594</td>\n",
       "      <td>9934.433594</td>\n",
       "      <td>4.337478e+10</td>\n",
       "    </tr>\n",
       "    <tr>\n",
       "      <th>1</th>\n",
       "      <td>2020-02-17</td>\n",
       "      <td>9936.560547</td>\n",
       "      <td>9938.815430</td>\n",
       "      <td>9507.637695</td>\n",
       "      <td>9690.142578</td>\n",
       "      <td>9690.142578</td>\n",
       "      <td>4.599830e+10</td>\n",
       "    </tr>\n",
       "    <tr>\n",
       "      <th>2</th>\n",
       "      <td>2020-02-18</td>\n",
       "      <td>9691.230469</td>\n",
       "      <td>10161.935547</td>\n",
       "      <td>9632.382813</td>\n",
       "      <td>10141.996094</td>\n",
       "      <td>10141.996094</td>\n",
       "      <td>4.727102e+10</td>\n",
       "    </tr>\n",
       "    <tr>\n",
       "      <th>3</th>\n",
       "      <td>2020-02-19</td>\n",
       "      <td>10143.798828</td>\n",
       "      <td>10191.675781</td>\n",
       "      <td>9611.223633</td>\n",
       "      <td>9633.386719</td>\n",
       "      <td>9633.386719</td>\n",
       "      <td>4.699202e+10</td>\n",
       "    </tr>\n",
       "    <tr>\n",
       "      <th>4</th>\n",
       "      <td>2020-02-20</td>\n",
       "      <td>9629.325195</td>\n",
       "      <td>9643.216797</td>\n",
       "      <td>9507.900391</td>\n",
       "      <td>9608.475586</td>\n",
       "      <td>9608.475586</td>\n",
       "      <td>4.492526e+10</td>\n",
       "    </tr>\n",
       "  </tbody>\n",
       "</table>\n",
       "</div>"
      ],
      "text/plain": [
       "         Date          Open          High          Low         Close  \\\n",
       "0  2020-02-16   9889.179688  10053.968750  9722.386719   9934.433594   \n",
       "1  2020-02-17   9936.560547   9938.815430  9507.637695   9690.142578   \n",
       "2  2020-02-18   9691.230469  10161.935547  9632.382813  10141.996094   \n",
       "3  2020-02-19  10143.798828  10191.675781  9611.223633   9633.386719   \n",
       "4  2020-02-20   9629.325195   9643.216797  9507.900391   9608.475586   \n",
       "\n",
       "      Adj Close        Volume  \n",
       "0   9934.433594  4.337478e+10  \n",
       "1   9690.142578  4.599830e+10  \n",
       "2  10141.996094  4.727102e+10  \n",
       "3   9633.386719  4.699202e+10  \n",
       "4   9608.475586  4.492526e+10  "
      ]
     },
     "execution_count": 321,
     "metadata": {},
     "output_type": "execute_result"
    }
   ],
   "source": [
    "df.head()"
   ]
  },
  {
   "cell_type": "code",
   "execution_count": 322,
   "id": "severe-configuration",
   "metadata": {},
   "outputs": [
    {
     "data": {
      "text/plain": [
       "7"
      ]
     },
     "execution_count": 322,
     "metadata": {},
     "output_type": "execute_result"
    }
   ],
   "source": [
    "len(df.columns)"
   ]
  },
  {
   "cell_type": "code",
   "execution_count": 323,
   "id": "important-mount",
   "metadata": {},
   "outputs": [
    {
     "data": {
      "text/plain": [
       "Date         False\n",
       "Open          True\n",
       "High          True\n",
       "Low           True\n",
       "Close         True\n",
       "Adj Close     True\n",
       "Volume        True\n",
       "dtype: bool"
      ]
     },
     "execution_count": 323,
     "metadata": {},
     "output_type": "execute_result"
    }
   ],
   "source": [
    "df.isnull().any()"
   ]
  },
  {
   "cell_type": "code",
   "execution_count": 324,
   "id": "spectacular-drilling",
   "metadata": {},
   "outputs": [
    {
     "data": {
      "text/plain": [
       "Date         0\n",
       "Open         4\n",
       "High         4\n",
       "Low          4\n",
       "Close        4\n",
       "Adj Close    4\n",
       "Volume       4\n",
       "dtype: int64"
      ]
     },
     "execution_count": 324,
     "metadata": {},
     "output_type": "execute_result"
    }
   ],
   "source": [
    "df.isnull().sum()"
   ]
  },
  {
   "cell_type": "markdown",
   "id": "demonstrated-penetration",
   "metadata": {},
   "source": [
    "We found that there are only 4 rows which has null values in each column. Since, it is not too much, we will drop them all."
   ]
  },
  {
   "cell_type": "code",
   "execution_count": 325,
   "id": "colored-penetration",
   "metadata": {},
   "outputs": [],
   "source": [
    "df = df.dropna(axis=0)"
   ]
  },
  {
   "cell_type": "code",
   "execution_count": 326,
   "id": "consolidated-purpose",
   "metadata": {},
   "outputs": [
    {
     "data": {
      "text/plain": [
       "Date         0\n",
       "Open         0\n",
       "High         0\n",
       "Low          0\n",
       "Close        0\n",
       "Adj Close    0\n",
       "Volume       0\n",
       "dtype: int64"
      ]
     },
     "execution_count": 326,
     "metadata": {},
     "output_type": "execute_result"
    }
   ],
   "source": [
    "df.isnull().sum()"
   ]
  },
  {
   "cell_type": "code",
   "execution_count": 327,
   "id": "collaborative-musical",
   "metadata": {},
   "outputs": [
    {
     "data": {
      "text/plain": [
       "Date          object\n",
       "Open         float64\n",
       "High         float64\n",
       "Low          float64\n",
       "Close        float64\n",
       "Adj Close    float64\n",
       "Volume       float64\n",
       "dtype: object"
      ]
     },
     "execution_count": 327,
     "metadata": {},
     "output_type": "execute_result"
    }
   ],
   "source": [
    "df.dtypes"
   ]
  },
  {
   "cell_type": "markdown",
   "id": "illegal-gnome",
   "metadata": {},
   "source": [
    "Lets see if one closed up or down each day. And create binary column 0 = loss, 1= gain to have something to predict."
   ]
  },
  {
   "cell_type": "code",
   "execution_count": 328,
   "id": "minute-philippines",
   "metadata": {},
   "outputs": [],
   "source": [
    "df['pos_neg'] = df['Open']-df['Close']"
   ]
  },
  {
   "cell_type": "code",
   "execution_count": 339,
   "id": "senior-nickname",
   "metadata": {},
   "outputs": [],
   "source": [
    "df['Up/Down'] = np.where(df['pos_neg'] > 0, '0','1')"
   ]
  },
  {
   "cell_type": "markdown",
   "id": "magnetic-reader",
   "metadata": {},
   "source": [
    "We need to make sure the columns for feature are integer in order to make prediction."
   ]
  },
  {
   "cell_type": "code",
   "execution_count": 330,
   "id": "operational-longer",
   "metadata": {},
   "outputs": [],
   "source": [
    "df[['Open','High','Low','Close','Up/Down']] = df[['Open','High',\n",
    "                                                  'Low','Close','Up/Down']].astype(int)"
   ]
  },
  {
   "cell_type": "code",
   "execution_count": 331,
   "id": "printable-dream",
   "metadata": {},
   "outputs": [
    {
     "data": {
      "text/plain": [
       "Date          object\n",
       "Open           int64\n",
       "High           int64\n",
       "Low            int64\n",
       "Close          int64\n",
       "Adj Close    float64\n",
       "Volume       float64\n",
       "pos_neg      float64\n",
       "Up/Down        int64\n",
       "dtype: object"
      ]
     },
     "execution_count": 331,
     "metadata": {},
     "output_type": "execute_result"
    }
   ],
   "source": [
    "df.dtypes"
   ]
  },
  {
   "cell_type": "code",
   "execution_count": 338,
   "id": "opposed-swaziland",
   "metadata": {},
   "outputs": [
    {
     "data": {
      "text/html": [
       "<div>\n",
       "<style scoped>\n",
       "    .dataframe tbody tr th:only-of-type {\n",
       "        vertical-align: middle;\n",
       "    }\n",
       "\n",
       "    .dataframe tbody tr th {\n",
       "        vertical-align: top;\n",
       "    }\n",
       "\n",
       "    .dataframe thead th {\n",
       "        text-align: right;\n",
       "    }\n",
       "</style>\n",
       "<table border=\"1\" class=\"dataframe\">\n",
       "  <thead>\n",
       "    <tr style=\"text-align: right;\">\n",
       "      <th></th>\n",
       "      <th>Date</th>\n",
       "      <th>Open</th>\n",
       "      <th>High</th>\n",
       "      <th>Low</th>\n",
       "      <th>Close</th>\n",
       "      <th>Adj Close</th>\n",
       "      <th>Volume</th>\n",
       "      <th>pos_neg</th>\n",
       "      <th>Up/Down</th>\n",
       "    </tr>\n",
       "  </thead>\n",
       "  <tbody>\n",
       "    <tr>\n",
       "      <th>0</th>\n",
       "      <td>2020-02-16</td>\n",
       "      <td>9889</td>\n",
       "      <td>10053</td>\n",
       "      <td>9722</td>\n",
       "      <td>9934</td>\n",
       "      <td>9934.433594</td>\n",
       "      <td>4.337478e+10</td>\n",
       "      <td>-45.253906</td>\n",
       "      <td>1</td>\n",
       "    </tr>\n",
       "    <tr>\n",
       "      <th>1</th>\n",
       "      <td>2020-02-17</td>\n",
       "      <td>9936</td>\n",
       "      <td>9938</td>\n",
       "      <td>9507</td>\n",
       "      <td>9690</td>\n",
       "      <td>9690.142578</td>\n",
       "      <td>4.599830e+10</td>\n",
       "      <td>246.417969</td>\n",
       "      <td>0</td>\n",
       "    </tr>\n",
       "    <tr>\n",
       "      <th>2</th>\n",
       "      <td>2020-02-18</td>\n",
       "      <td>9691</td>\n",
       "      <td>10161</td>\n",
       "      <td>9632</td>\n",
       "      <td>10141</td>\n",
       "      <td>10141.996094</td>\n",
       "      <td>4.727102e+10</td>\n",
       "      <td>-450.765625</td>\n",
       "      <td>1</td>\n",
       "    </tr>\n",
       "    <tr>\n",
       "      <th>3</th>\n",
       "      <td>2020-02-19</td>\n",
       "      <td>10143</td>\n",
       "      <td>10191</td>\n",
       "      <td>9611</td>\n",
       "      <td>9633</td>\n",
       "      <td>9633.386719</td>\n",
       "      <td>4.699202e+10</td>\n",
       "      <td>510.412109</td>\n",
       "      <td>0</td>\n",
       "    </tr>\n",
       "    <tr>\n",
       "      <th>4</th>\n",
       "      <td>2020-02-20</td>\n",
       "      <td>9629</td>\n",
       "      <td>9643</td>\n",
       "      <td>9507</td>\n",
       "      <td>9608</td>\n",
       "      <td>9608.475586</td>\n",
       "      <td>4.492526e+10</td>\n",
       "      <td>20.849609</td>\n",
       "      <td>0</td>\n",
       "    </tr>\n",
       "  </tbody>\n",
       "</table>\n",
       "</div>"
      ],
      "text/plain": [
       "         Date   Open   High   Low  Close     Adj Close        Volume  \\\n",
       "0  2020-02-16   9889  10053  9722   9934   9934.433594  4.337478e+10   \n",
       "1  2020-02-17   9936   9938  9507   9690   9690.142578  4.599830e+10   \n",
       "2  2020-02-18   9691  10161  9632  10141  10141.996094  4.727102e+10   \n",
       "3  2020-02-19  10143  10191  9611   9633   9633.386719  4.699202e+10   \n",
       "4  2020-02-20   9629   9643  9507   9608   9608.475586  4.492526e+10   \n",
       "\n",
       "      pos_neg  Up/Down  \n",
       "0  -45.253906        1  \n",
       "1  246.417969        0  \n",
       "2 -450.765625        1  \n",
       "3  510.412109        0  \n",
       "4   20.849609        0  "
      ]
     },
     "execution_count": 338,
     "metadata": {},
     "output_type": "execute_result"
    }
   ],
   "source": [
    "df.head()"
   ]
  },
  {
   "cell_type": "markdown",
   "id": "certified-pakistan",
   "metadata": {},
   "source": [
    "Drop columns we are not using."
   ]
  },
  {
   "cell_type": "markdown",
   "id": "departmental-edward",
   "metadata": {},
   "source": [
    "Now let's split the data and fit into the linear regression model"
   ]
  },
  {
   "cell_type": "code",
   "execution_count": 332,
   "id": "capable-system",
   "metadata": {},
   "outputs": [],
   "source": [
    "X = df[['Open','High','Low','Close']]\n",
    "y = df['Up/Down']\n",
    "X_train, X_test, y_train,y_test = train_test_split(X,y,test_size = 0.30,random_state=0)"
   ]
  },
  {
   "cell_type": "code",
   "execution_count": 333,
   "id": "collaborative-gravity",
   "metadata": {},
   "outputs": [
    {
     "data": {
      "text/plain": [
       "LogisticRegression()"
      ]
     },
     "execution_count": 333,
     "metadata": {},
     "output_type": "execute_result"
    }
   ],
   "source": [
    "model_log = LogisticRegression()\n",
    "model_log.fit(X_train,y_train)"
   ]
  },
  {
   "cell_type": "markdown",
   "id": "beautiful-wrestling",
   "metadata": {},
   "source": [
    "### Predicting the test set results and calculating the accuracy"
   ]
  },
  {
   "cell_type": "code",
   "execution_count": 334,
   "id": "fantastic-problem",
   "metadata": {},
   "outputs": [],
   "source": [
    "predictions = model_log.predict(X_test)"
   ]
  },
  {
   "cell_type": "code",
   "execution_count": 343,
   "id": "olive-catalog",
   "metadata": {},
   "outputs": [
    {
     "name": "stdout",
     "output_type": "stream",
     "text": [
      "Accuracy of logistic regression classifier on test set:      0.98\n"
     ]
    }
   ],
   "source": [
    "print('Accuracy of logistic regression classifier on test set:\\\n",
    "      {:.2f}'.format(model_log.score(X_test,y_test)))"
   ]
  },
  {
   "cell_type": "markdown",
   "id": "blond-carter",
   "metadata": {},
   "source": [
    "### Confufsion matrix"
   ]
  },
  {
   "cell_type": "code",
   "execution_count": 337,
   "id": "capable-chest",
   "metadata": {},
   "outputs": [
    {
     "name": "stdout",
     "output_type": "stream",
     "text": [
      "[[40  0]\n",
      " [ 2 67]]\n"
     ]
    }
   ],
   "source": [
    "from sklearn.metrics import confusion_matrix\n",
    "confusion_matrix = confusion_matrix(y_test, predictions)\n",
    "print(confusion_matrix)"
   ]
  },
  {
   "cell_type": "markdown",
   "id": "entire-straight",
   "metadata": {},
   "source": [
    "## Conclusion"
   ]
  },
  {
   "cell_type": "markdown",
   "id": "weird-vaccine",
   "metadata": {},
   "source": [
    "The confusion matrix telling us the model predicted 40 zeros which means loss and 67 ones which are gain correctly. 2 values predicted wrongly."
   ]
  },
  {
   "cell_type": "code",
   "execution_count": null,
   "id": "knowing-shakespeare",
   "metadata": {},
   "outputs": [],
   "source": []
  }
 ],
 "metadata": {
  "kernelspec": {
   "display_name": "Python 3",
   "language": "python",
   "name": "python3"
  },
  "language_info": {
   "codemirror_mode": {
    "name": "ipython",
    "version": 3
   },
   "file_extension": ".py",
   "mimetype": "text/x-python",
   "name": "python",
   "nbconvert_exporter": "python",
   "pygments_lexer": "ipython3",
   "version": "3.7.7"
  }
 },
 "nbformat": 4,
 "nbformat_minor": 5
}
