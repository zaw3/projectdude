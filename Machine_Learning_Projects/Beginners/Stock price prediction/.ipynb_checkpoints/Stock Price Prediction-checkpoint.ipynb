{
 "cells": [
  {
   "cell_type": "markdown",
   "id": "scientific-truth",
   "metadata": {},
   "source": [
    "## Introduction\n",
    "\n",
    "The prediction of the stock price is goal of investor, since the entrie compay depend on the market behavior. Today, so many people are making money staying at home trading in the stock market. It is a plus point, if we use our machine learning skills to predict the stock price. In this project, we are going to predict facebook stock price. The dataset is downloaded from [Yahoo Finance](https://in.finance.yahoo.com).\n"
   ]
  },
  {
   "cell_type": "markdown",
   "id": "charming-enclosure",
   "metadata": {},
   "source": [
    "### Let's import the required libraries"
   ]
  },
  {
   "cell_type": "code",
   "execution_count": 63,
   "id": "flying-mixture",
   "metadata": {},
   "outputs": [],
   "source": [
    "import numpy as np\n",
    "import pandas as pd\n",
    "from sklearn import preprocessing\n",
    "from sklearn.model_selection import train_test_split\n",
    "from sklearn.linear_model import LinearRegression\n",
    "from sklearn.metrics import r2_score\n",
    "import matplotlib.pyplot as plt"
   ]
  },
  {
   "cell_type": "markdown",
   "id": "combined-basis",
   "metadata": {},
   "source": [
    "### Data Preparation\n",
    "\n",
    "Lets write a function that will prepare the dataset so that we can fit in the linear regression model easily."
   ]
  },
  {
   "cell_type": "code",
   "execution_count": 64,
   "id": "acceptable-manner",
   "metadata": {},
   "outputs": [],
   "source": [
    "df = pd.read_csv('fb.csv')"
   ]
  },
  {
   "cell_type": "code",
   "execution_count": 65,
   "id": "photographic-audio",
   "metadata": {},
   "outputs": [],
   "source": [
    "def prepare_data(df,feature,target,test_size):\n",
    "#     label = df[forecast_col].shift(-forecast_out)\n",
    "    \n",
    "    # Creating feature array\n",
    "    X = np.array(df[[feature]])\n",
    "\n",
    "    # Assign Y\n",
    "    y = np.array(df[target])\n",
    "    \n",
    "    X_train,X_test,Y_train,Y_test = train_test_split(X,y,test_size=test_size,\n",
    "                                                     random_state=0)\n",
    "    response = [X_train,X_test,Y_train,Y_test]\n",
    "    return response"
   ]
  },
  {
   "cell_type": "code",
   "execution_count": 66,
   "id": "heard-colonial",
   "metadata": {},
   "outputs": [
    {
     "data": {
      "text/html": [
       "<div>\n",
       "<style scoped>\n",
       "    .dataframe tbody tr th:only-of-type {\n",
       "        vertical-align: middle;\n",
       "    }\n",
       "\n",
       "    .dataframe tbody tr th {\n",
       "        vertical-align: top;\n",
       "    }\n",
       "\n",
       "    .dataframe thead th {\n",
       "        text-align: right;\n",
       "    }\n",
       "</style>\n",
       "<table border=\"1\" class=\"dataframe\">\n",
       "  <thead>\n",
       "    <tr style=\"text-align: right;\">\n",
       "      <th></th>\n",
       "      <th>Date</th>\n",
       "      <th>Open</th>\n",
       "      <th>High</th>\n",
       "      <th>Low</th>\n",
       "      <th>Close</th>\n",
       "      <th>Adj Close</th>\n",
       "      <th>Volume</th>\n",
       "    </tr>\n",
       "  </thead>\n",
       "  <tbody>\n",
       "    <tr>\n",
       "      <th>0</th>\n",
       "      <td>2020-02-18</td>\n",
       "      <td>213.550003</td>\n",
       "      <td>217.979996</td>\n",
       "      <td>213.399994</td>\n",
       "      <td>217.800003</td>\n",
       "      <td>217.800003</td>\n",
       "      <td>15609200</td>\n",
       "    </tr>\n",
       "    <tr>\n",
       "      <th>1</th>\n",
       "      <td>2020-02-19</td>\n",
       "      <td>217.990005</td>\n",
       "      <td>218.320007</td>\n",
       "      <td>216.110001</td>\n",
       "      <td>217.490005</td>\n",
       "      <td>217.490005</td>\n",
       "      <td>12135100</td>\n",
       "    </tr>\n",
       "    <tr>\n",
       "      <th>2</th>\n",
       "      <td>2020-02-20</td>\n",
       "      <td>216.520004</td>\n",
       "      <td>218.770004</td>\n",
       "      <td>212.949997</td>\n",
       "      <td>214.580002</td>\n",
       "      <td>214.580002</td>\n",
       "      <td>13109200</td>\n",
       "    </tr>\n",
       "  </tbody>\n",
       "</table>\n",
       "</div>"
      ],
      "text/plain": [
       "         Date        Open        High         Low       Close   Adj Close  \\\n",
       "0  2020-02-18  213.550003  217.979996  213.399994  217.800003  217.800003   \n",
       "1  2020-02-19  217.990005  218.320007  216.110001  217.490005  217.490005   \n",
       "2  2020-02-20  216.520004  218.770004  212.949997  214.580002  214.580002   \n",
       "\n",
       "     Volume  \n",
       "0  15609200  \n",
       "1  12135100  \n",
       "2  13109200  "
      ]
     },
     "execution_count": 66,
     "metadata": {},
     "output_type": "execute_result"
    }
   ],
   "source": [
    "df.head(3)"
   ]
  },
  {
   "cell_type": "markdown",
   "id": "actual-indonesia",
   "metadata": {},
   "source": [
    "We find that the 'open' column is our feature column and 'Close' is the target column."
   ]
  },
  {
   "cell_type": "code",
   "execution_count": 126,
   "id": "younger-corpus",
   "metadata": {},
   "outputs": [],
   "source": [
    "feature = 'Open'\n",
    "target = 'Close'\n",
    "test_size = 0.20"
   ]
  },
  {
   "cell_type": "markdown",
   "id": "southern-review",
   "metadata": {},
   "source": [
    "### Applying Machine Learning for stock price prediction"
   ]
  },
  {
   "cell_type": "markdown",
   "id": "satellite-mining",
   "metadata": {},
   "source": [
    "Now let's split the data and fit into the linear regression model"
   ]
  },
  {
   "cell_type": "code",
   "execution_count": 127,
   "id": "tamil-cleaning",
   "metadata": {},
   "outputs": [],
   "source": [
    "X_train, X_test, Y_train,Y_test = prepare_data(df,feature,target,test_size)"
   ]
  },
  {
   "cell_type": "code",
   "execution_count": 128,
   "id": "productive-software",
   "metadata": {},
   "outputs": [],
   "source": [
    "model_clr = LinearRegression(normalize = True)\n",
    "model_clr.fit(X_train,Y_train)\n",
    "y_pred = model_clr.predict(X_test)"
   ]
  },
  {
   "cell_type": "code",
   "execution_count": 129,
   "id": "equal-possession",
   "metadata": {},
   "outputs": [
    {
     "name": "stdout",
     "output_type": "stream",
     "text": [
      "Linear Regression Test accuracy 0.98282574439418\n"
     ]
    }
   ],
   "source": [
    "print('Linear Regression Test accuracy %s' % r2_score(Y_test,y_pred))"
   ]
  },
  {
   "cell_type": "markdown",
   "id": "assigned-venice",
   "metadata": {},
   "source": [
    "We use R2 score to measure the accuracy of our model. We also plot the regression line along with the test data points to get a better visual understanding of how good our algorithm works."
   ]
  },
  {
   "cell_type": "code",
   "execution_count": 130,
   "id": "molecular-parade",
   "metadata": {},
   "outputs": [
    {
     "data": {
      "image/png": "[encoded data removed]",
      "text/plain": [
       "<Figure size 432x288 with 1 Axes>"
      ]
     },
     "metadata": {
      "needs_background": "light"
     },
     "output_type": "display_data"
    }
   ],
   "source": [
    "plt.plot(X_train,Y_train,'o',color = 'red',label='data')\n",
    "plt.plot(X_test,y_pred,color='black',label ='Predict')\n",
    "plt.legend()\n",
    "plt.show()"
   ]
  },
  {
   "cell_type": "markdown",
   "id": "behavioral-printing",
   "metadata": {},
   "source": [
    "## Conclusion"
   ]
  },
  {
   "cell_type": "markdown",
   "id": "unusual-bottom",
   "metadata": {},
   "source": [
    "We use scikit learn to import the linear regression model. we fit the model on the training data and predict the values for the testing data. We use R2 score to measure the accuracy of our model.\n",
    "\n",
    "Linear Regression is an algorithm that every Machine Learning enthusiast must know and it is also the right place to start for people who want to learn Machine Learning as well. It is really a simple but useful algorithm."
   ]
  },
  {
   "cell_type": "code",
   "execution_count": null,
   "id": "velvet-dollar",
   "metadata": {},
   "outputs": [],
   "source": []
  }
 ],
 "metadata": {
  "kernelspec": {
   "display_name": "Python 3",
   "language": "python",
   "name": "python3"
  },
  "language_info": {
   "codemirror_mode": {
    "name": "ipython",
    "version": 3
   },
   "file_extension": ".py",
   "mimetype": "text/x-python",
   "name": "python",
   "nbconvert_exporter": "python",
   "pygments_lexer": "ipython3",
   "version": "3.7.7"
  }
 },
 "nbformat": 4,
 "nbformat_minor": 5
}
